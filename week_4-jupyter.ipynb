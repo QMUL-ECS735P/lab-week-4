{
 "cells": [
  {
   "cell_type": "markdown",
   "metadata": {
    "id": "oOCRAJC5DRMZ"
   },
   "source": [
    "This lab sheet and all other materials can be found on GitHub here: https://github.com/QMUL-ECS735P/lab-week-4/"
   ]
  },
  {
   "cell_type": "markdown",
   "metadata": {
    "id": "aQBmqw_vDUel"
   },
   "source": [
    "# Introduction to SPARQL\n",
    "\n",
    "> Session objectives:\n",
    "> * Write and execute SPARQL queries\n",
    "> * Merge RDF data from multiple sources\n"
   ]
  },
  {
   "cell_type": "markdown",
   "metadata": {
    "id": "LyX-BLwNDhYo"
   },
   "source": [
    "## 1. Introduction\n",
    "\n",
    "As with the last lab, we'll be using Python to create SPARQL database queries and constructing RDF graphs from the result of those queries.\n",
    "\n",
    "If you're new to Python it would be wise to keep the basic tutorial handy for reference: \n",
    "\n",
    "* https://docs.python.org/3.7/tutorial/\n",
    "\n",
    "Python scripts are run by calling the python command, followed by the name of the python script to execute, for example:\n",
    "\n",
    "```\n",
    "python hello_world.py\n",
    "```\n",
    "\n",
    "It is also possible to run python in an interactive mode known as a REPL, to do this simply call python without any arguments:\n",
    "\n",
    "```\n",
    "python\n",
    "```\n"
   ]
  },
  {
   "cell_type": "markdown",
   "metadata": {
    "id": "dOCEcRryD6RO"
   },
   "source": [
    "## 2. Writing SPARQL Queries\n",
    "\n",
    "In this lab we'll be using an external API endpoint hosted by DBpedia. DBpedia is a community-run resource that extracts linked data from Wikipedia.\n",
    "\n",
    "To write SPARQL queries as Python strings, we'll be making good use of multi-line strings"
   ]
  },
  {
   "cell_type": "code",
   "execution_count": null,
   "metadata": {
    "id": "EnGFN30OEJfN"
   },
   "outputs": [],
   "source": [
    "'''\n",
    "this is\n",
    "a multi-line\n",
    "string\n",
    "'''"
   ]
  },
  {
   "cell_type": "markdown",
   "metadata": {
    "id": "MyqVV0avETeq"
   },
   "source": [
    "Begin by importing the SRARQLWrapper library:"
   ]
  },
  {
   "cell_type": "code",
   "execution_count": null,
   "metadata": {
    "id": "OJMu-PpeEW9d"
   },
   "outputs": [],
   "source": [
    "!pip install sparqlwrapper # This is only necessary for the online notebook"
   ]
  },
  {
   "cell_type": "code",
   "execution_count": null,
   "metadata": {
    "id": "a8wQ-8nZEZ3l"
   },
   "outputs": [],
   "source": [
    "from SPARQLWrapper import SPARQLWrapper, JSON"
   ]
  },
  {
   "cell_type": "markdown",
   "metadata": {
    "id": "307vHbBzEgjV"
   },
   "source": [
    "DBpedia has a SPARQL endpoint located at `http://dbpedia.org/sparql`. We're going to wrap that endpoint using the SPARQLWrapper, which means we can use a lot of handy methods to construct, execute, and receive queries. "
   ]
  },
  {
   "cell_type": "code",
   "execution_count": null,
   "metadata": {
    "id": "6bdanGx1EpYJ"
   },
   "outputs": [],
   "source": [
    "endpoint = SPARQLWrapper('http://dbpedia.org/sparql')"
   ]
  },
  {
   "cell_type": "markdown",
   "metadata": {
    "id": "19vlzjgIEtP8"
   },
   "source": [
    "Now we're going to write a simple SPARQL query to get some information from the database:"
   ]
  },
  {
   "cell_type": "code",
   "execution_count": null,
   "metadata": {
    "id": "wyTD2m_cExJK"
   },
   "outputs": [],
   "source": [
    "endpoint.setQuery('''\n",
    "PREFIX rdfs: <http://www.w3.org/2000/01/rdf-schema#>\n",
    "PREFIX dbpr: <http://dbpedia.org/resource/>\n",
    "SELECT ?label\n",
    "WHERE { dbpr:Asturias rdfs:label ?label }\n",
    "''')"
   ]
  },
  {
   "cell_type": "markdown",
   "metadata": {
    "id": "7NANRd9ME0Ka"
   },
   "source": [
    "This doesn't execute the query. Before we execute the query, look at how it is constructed. Does it look familiar?"
   ]
  },
  {
   "cell_type": "markdown",
   "metadata": {
    "id": "cAFYDFG_E92e"
   },
   "source": [
    "The endpoint can respond in a variety of different serialisation forats, for today we'll be using JSON."
   ]
  },
  {
   "cell_type": "code",
   "execution_count": null,
   "metadata": {
    "id": "TcR_IOHHFCcM"
   },
   "outputs": [],
   "source": [
    "endpoint.setReturnFormat(JSON)"
   ]
  },
  {
   "cell_type": "markdown",
   "metadata": {
    "id": "JW8_HsbgFF7v"
   },
   "source": [
    "Now to execute the query and print the results:"
   ]
  },
  {
   "cell_type": "code",
   "execution_count": null,
   "metadata": {
    "id": "gcc-wMLKFHgN"
   },
   "outputs": [],
   "source": [
    "results = endpoint.query().convert()\n",
    "\n",
    "for result in results['results']['bindings']:\n",
    "  print(result['label']['value'])"
   ]
  },
  {
   "cell_type": "markdown",
   "metadata": {
    "id": "EKPh791kFLs6"
   },
   "source": [
    "Let's take a moment to unpack what's happening here. First we execute the query with `endpoint.query()` and then tell the SPARQLWrapper library to convert the response into Python nested dictionaries with `.convert()`.\n",
    "\n",
    "We then iterate over the array contained in `results['results']['bindings']` and print each value contained in `result['label']['value']`."
   ]
  },
  {
   "cell_type": "markdown",
   "metadata": {
    "id": "-Ksf7XXWFVB3"
   },
   "source": [
    "To get a better idea of how the results dictionary is structured we can use the pprint library to pretty print the data."
   ]
  },
  {
   "cell_type": "code",
   "execution_count": null,
   "metadata": {
    "id": "OMIchLZrFXBW"
   },
   "outputs": [],
   "source": [
    "!pip install prettyprinter # This is only necessary for the online notebook"
   ]
  },
  {
   "cell_type": "code",
   "execution_count": null,
   "metadata": {
    "id": "t42rGEZgFa_S"
   },
   "outputs": [],
   "source": [
    "from pprint import PrettyPrinter\n",
    "\n",
    "pretty = PrettyPrinter(indent = 2)\n",
    "pretty.pprint(results)"
   ]
  },
  {
   "cell_type": "markdown",
   "metadata": {
    "id": "fXwpWCnJFi4G"
   },
   "source": [
    "Take a moment to familiarse with this data structure, all our responses from DBpedia will be in a similar format.\n"
   ]
  },
  {
   "cell_type": "markdown",
   "metadata": {
    "id": "KsZeAoX9Fkpz"
   },
   "source": [
    "---"
   ]
  },
  {
   "cell_type": "markdown",
   "metadata": {
    "id": "lgAJWvnPFlD5"
   },
   "source": [
    "Now we'll use the FILTER constraint to filter out all responses other than those in English and Spanish.\n",
    "\n"
   ]
  },
  {
   "cell_type": "code",
   "execution_count": null,
   "metadata": {
    "id": "pQHyltToFoFm"
   },
   "outputs": [],
   "source": [
    "endpoint.setQuery('''\n",
    "PREFIX rdfs: <http://www.w3.org/2000/01/rdf-schema#>\n",
    "PREFIX dbpr: <http://dbpedia.org/resource/>\n",
    "SELECT ?label\n",
    "WHERE { \n",
    "  dbpr:Asturias rdfs:label ?label .\n",
    "  FILTER( LANG(?label)=\"es\" || LANG(?label)=\"en\") . \n",
    "}\n",
    "''')"
   ]
  },
  {
   "cell_type": "markdown",
   "metadata": {
    "id": "jY1hphpAFq5x"
   },
   "source": [
    "As before, we'll execute the query and print the results:\n"
   ]
  },
  {
   "cell_type": "code",
   "execution_count": null,
   "metadata": {
    "id": "MIrvN7TvFsTf"
   },
   "outputs": [],
   "source": [
    "results = endpoint.query().convert()\n",
    "\n",
    "for result in results['results']['bindings']:\n",
    "  print(result['label']['value'])"
   ]
  },
  {
   "cell_type": "markdown",
   "metadata": {
    "id": "gm_gd9qLFzEw"
   },
   "source": [
    "We didn't need to specify the endpoint url or return format because we already did that previously. You can read more about the FILTER constraint here: \n",
    "\n",
    "* https://jena.apache.org/tutorials/sparql_filters.html.\n",
    "\n",
    "Try changing the query to select responses in some languages that aren't English or Spanish. (Hint, run the query with no `FILTER` and look at the `xml:lang` predicate)."
   ]
  },
  {
   "cell_type": "markdown",
   "metadata": {
    "id": "dQfIuUWzF8vZ"
   },
   "source": [
    "## 3. Using SPARQLQrapper and RDFlib\n",
    "\n",
    "Now we'll use our knowledge from last week to create an RDF graph and populate it with the result from some SPARQL queries.\n",
    "\n",
    "For clarity, let's import everything we need first (even though some of these things are already imported). You'll likely need these imports for the coursework, so its handy to lay them out here."
   ]
  },
  {
   "cell_type": "code",
   "execution_count": null,
   "metadata": {
    "id": "4XqHQi2BGUVP"
   },
   "outputs": [],
   "source": [
    "import rdflib\n",
    "from rdflib import plugin\n",
    "from rdflib.graph import Graph\n",
    "from rdflib.namespace import Namespace\n",
    "from SPARQLWrapper import SPARQLWrapper, JSON, XML\n",
    "\n",
    "endpoint = SPARQLWrapper('http://dbpedia.org/sparql')"
   ]
  },
  {
   "cell_type": "markdown",
   "metadata": {
    "id": "RykgYldfGWqZ"
   },
   "source": [
    "We'll be using a CONSTRUCT query which tells SPARQL to construct new rdf triples based on the result of the query. For simplicity we'll simply create an exact copy of the graph.\n",
    "\n"
   ]
  },
  {
   "cell_type": "code",
   "execution_count": null,
   "metadata": {
    "id": "Na0YaTl4GYct"
   },
   "outputs": [],
   "source": [
    "query = '''\n",
    "PREFIX rdfs: <http://www.w3.org/2000/01/rdf-schema#>\n",
    "CONSTRUCT {\n",
    "    <%(uri)s> a ?type .\n",
    "    <%(uri)s> ?property ?value .\n",
    "    <%(uri)s> rdfs:label ?label .\n",
    "    ?value rdfs:label ?vlabel .\n",
    "    ?property rdfs:label ?plabel . \n",
    "}\n",
    "WHERE {\n",
    "    <%(uri)s> a ?type.\n",
    "    <%(uri)s> ?property ?value .\n",
    "    <%(uri)s> rdfs:label ?label .\n",
    "    ?value rdfs:label ?vlabel .\n",
    "    ?property rdfs:label ?plabel . \n",
    "    \n",
    "    FILTER( LANG(?label)=\"es\" || LANG(?label)=\"en\" ) . \n",
    "}\n",
    "'''"
   ]
  },
  {
   "cell_type": "markdown",
   "metadata": {
    "id": "adIEYjaXGb7v"
   },
   "source": [
    "The above query string is using a Python feature called named placeholders. \n",
    "We use the % operator to replace the named placeholders with another string, it saves us some typing!"
   ]
  },
  {
   "cell_type": "code",
   "execution_count": null,
   "metadata": {
    "id": "a4X_qxPnGe15"
   },
   "outputs": [],
   "source": [
    "endpoint.setQuery(query % { 'uri': 'http://dbpedia.org/resource/Asturias' })"
   ]
  },
  {
   "cell_type": "markdown",
   "metadata": {
    "id": "JN-LrC5cGjsA"
   },
   "source": [
    "This time we'll set the return format to XML:\n",
    "\n"
   ]
  },
  {
   "cell_type": "code",
   "execution_count": null,
   "metadata": {
    "id": "k8M2oZ7LGl0N"
   },
   "outputs": [],
   "source": [
    "endpoint.setReturnFormat(XML)"
   ]
  },
  {
   "cell_type": "markdown",
   "metadata": {
    "id": "GTJZUxVSGolb"
   },
   "source": [
    "And then execute the query (note: this may take a little time, don't worry!)"
   ]
  },
  {
   "cell_type": "code",
   "execution_count": null,
   "metadata": {
    "id": "B7MCDieDGp-y"
   },
   "outputs": [],
   "source": [
    "graph = endpoint.query().convert()"
   ]
  },
  {
   "cell_type": "markdown",
   "metadata": {
    "id": "oNi6HsXYSVZc"
   },
   "source": [
    "The resulting graph is quite large, to print it in a notebook would take quite a while!\n",
    "\n",
    "If you're cleverer than me you might want to look at the `itertools` package and see if you can print just a subset of the graph. Maybe something like:\n",
    "\n",
    "```python\n",
    "import itertools\n",
    "\n",
    "for s, p, o in itertools.islice(graph, 100):\n",
    "  print(\"subject: \" + str(s))\n",
    "  print(\"predicate: \" + str(p))\n",
    "  print(\"object: \" + str(o) + \"\\n\")\n",
    "```"
   ]
  },
  {
   "cell_type": "markdown",
   "metadata": {
    "id": "jU6WZA4_H_4e"
   },
   "source": [
    "---"
   ]
  },
  {
   "cell_type": "markdown",
   "metadata": {
    "id": "Hr5HL1NxIAa0"
   },
   "source": [
    "The graph variable is an rdflib graph like the ones we were creating and manipulating last week. Today we'll use a new method, graph.query to write SPARQL queries for our local rdf graph."
   ]
  },
  {
   "cell_type": "code",
   "execution_count": null,
   "metadata": {
    "id": "xdq5t5B_IDqG"
   },
   "outputs": [],
   "source": [
    "query = '''\n",
    "PREFIX dbpp: <http://dbpedia.org/property/>\n",
    "PREFIX rdfs: <http://www.w3.org/2000/01/rdf-schema#>\n",
    "SELECT DISTINCT ?location ?party ?leader\n",
    "WHERE {\n",
    "    <%(uri)s> rdfs:label ?location .\n",
    "    <%(uri)s> dbpp:leaderName ?leaderResource .\n",
    "    ?leaderResource rdfs:label ?leader .\n",
    "    <%(uri)s> dbpp:leaderParty ?partyResource .\n",
    "    ?partyResource rdfs:label ?party .\n",
    "    FILTER( LANG(?location)=\"%(lang)s\" && LANG(?party)=\"%(lang)s\" && LANG(?leader)=\"%(lang)s\") . \n",
    "}\n",
    "'''\n",
    "\n",
    "replacements = {\n",
    "  'uri': 'http://dbpedia.org/resource/Asturias',\n",
    "  'lang': 'es'\n",
    "}"
   ]
  },
  {
   "cell_type": "markdown",
   "metadata": {
    "id": "K-OGVKy-IGBV"
   },
   "source": [
    "Now we can run the query just like we did for our SPARQL endpoint:"
   ]
  },
  {
   "cell_type": "code",
   "execution_count": null,
   "metadata": {
    "id": "C1p6oB1yIHUV"
   },
   "outputs": [],
   "source": [
    "results = graph.query(query % replacements)\n",
    "                      \n",
    "for row in results:\n",
    "  print('The leading party of %s is %s. Their leader is %s.' % row)"
   ]
  },
  {
   "cell_type": "markdown",
   "metadata": {
    "id": "CEFu1cgqTG-P"
   },
   "source": [
    "Our initial construct query has both English and Spanish triples. Try re-running the query above to select English triples instead of Spanish ones.\n",
    "\n",
    "If you poked around using `itertools` to inspect the construct query response, you might want to play around here and construct your own queries."
   ]
  },
  {
   "cell_type": "markdown",
   "metadata": {
    "id": "d_rxtW8LRcVy"
   },
   "source": [
    "## 4. The Interactive DBpedia Endpoint\n",
    "\n",
    "DBpedia provides a web-based tool for writing and testing SPARQL queries. You can access it here: http://dbpedia.org/sparql/\n",
    "\n",
    "Type or copy the following query into the text area:"
   ]
  },
  {
   "cell_type": "markdown",
   "metadata": {
    "id": "Fp7r5j_uRgIA"
   },
   "source": [
    "```sparql\n",
    "PREFIX dbpedia: <http://dbpedia.org/resource/>\n",
    "PREFIX rdfs: <http://www.w3.org/2000/01/rdf-schema#>\n",
    "PREFIX dbpp: <http://dbpedia.org/property/>\n",
    "\n",
    "SELECT DISTINCT ?location ?leader ?party\n",
    "FROM <http://dbpedia.org>\n",
    "WHERE {\n",
    "  dbpedia:Asturias rdfs:label ?location ;\n",
    "  dbpp:leaderName ?leaderResource .\n",
    "  ?leaderResource rdfs:label ?leader .\n",
    "  dbpedia:Asturias dbpp:leaderParty ?partyResource .\n",
    "  ?partyResource rdfs:label ?party .\n",
    "}\n",
    "```\n"
   ]
  },
  {
   "cell_type": "markdown",
   "metadata": {
    "id": "H75YsExhRnB8"
   },
   "source": [
    "You can then click the Execute Query to run the query and explore the results. This will generate a visualisation of the query that can be handy to see what it is you're selecting."
   ]
  }
 ],
 "metadata": {
  "colab": {
   "collapsed_sections": [],
   "name": "week-4.ipynb",
   "private_outputs": true,
   "provenance": []
  },
  "kernelspec": {
   "display_name": "Python 3 (ipykernel)",
   "language": "python",
   "name": "python3"
  },
  "language_info": {
   "codemirror_mode": {
    "name": "ipython",
    "version": 3
   },
   "file_extension": ".py",
   "mimetype": "text/x-python",
   "name": "python",
   "nbconvert_exporter": "python",
   "pygments_lexer": "ipython3",
   "version": "3.9.7"
  }
 },
 "nbformat": 4,
 "nbformat_minor": 4
}
